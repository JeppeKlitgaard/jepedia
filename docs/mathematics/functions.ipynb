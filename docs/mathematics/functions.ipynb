{
 "cells": [
  {
   "cell_type": "markdown",
   "metadata": {},
   "source": [
    "# Functions\n",
    "\n",
    "Contains an overview of commonly used functions\n",
    "\n",
    "## Exponential and logarithmic functions\n",
    "\n",
    "The exponentials function, $e^x$, is defined by the following _power series_:\n",
    "\n",
    "$$ exp(x) \\equiv 1 + x + \\frac{1}{2!} x^2 + \\frac{1}{3!} x^3 + \\ldots $$\n",
    "\n",
    "The natural logarithmic function, $ln(x)$ is defined by the following statement:\n",
    "\n",
    "$$ exp(ln(x)) = e^{ln(x)} = x $$\n"
   ]
  }
 ],
 "metadata": {
  "kernelspec": {
   "display_name": "Jepedia",
   "language": "python",
   "name": "jepedia"
  },
  "language_info": {
   "codemirror_mode": {
    "name": "ipython",
    "version": 3
   },
   "file_extension": ".py",
   "mimetype": "text/x-python",
   "name": "python",
   "nbconvert_exporter": "python",
   "pygments_lexer": "ipython3",
   "version": "3.8.2"
  }
 },
 "nbformat": 4,
 "nbformat_minor": 4
}
