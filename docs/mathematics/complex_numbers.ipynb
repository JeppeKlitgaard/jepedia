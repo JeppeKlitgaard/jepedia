{
 "cells": [
  {
   "cell_type": "markdown",
   "metadata": {},
   "source": [
    "# Complex Numbers\n",
    "\n",
    "\"Two-Dimensional\" number.\n",
    "\n",
    "$$z=a+ib$$\n",
    "\n",
    "## Basic operations\n",
    "\n",
    "Addition and subtraction work by adding and subtracting the real and imaginary part separately.\n",
    "\n",
    "Multiplication works as expected.\n",
    "\n",
    "### Division\n",
    "\n",
    "Division works by multiplying both the denominator and numerator with the __complex conjugate__, generally marked $z^*$.\n",
    "\n",
    "The complex conjugate of a general $z=a+ib$ is simply:\n",
    "\n",
    "$$z^*=a-ib$$\n",
    "\n",
    "## Modulus\n",
    "\n",
    "Modulus of a complex number, $|z|$, or $mod(z)$, is simply:\n",
    "\n",
    "$$|z|=\\sqrt{zz^*}=\\sqrt{a^2+b^2}$$\n"
   ]
  }
 ],
 "metadata": {
  "kernelspec": {
   "display_name": "Jepedia",
   "language": "python",
   "name": "jepedia"
  },
  "language_info": {
   "codemirror_mode": {
    "name": "ipython",
    "version": 3
   },
   "file_extension": ".py",
   "mimetype": "text/x-python",
   "name": "python",
   "nbconvert_exporter": "python",
   "pygments_lexer": "ipython3",
   "version": "3.8.2"
  }
 },
 "nbformat": 4,
 "nbformat_minor": 4
}
