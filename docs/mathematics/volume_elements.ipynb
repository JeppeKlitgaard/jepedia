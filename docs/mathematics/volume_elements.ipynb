{
 "cells": [
  {
   "cell_type": "markdown",
   "metadata": {},
   "source": [
    "# Volume elements\n",
    "\n",
    "Contains an overview of volume and surface elements\n",
    "\n",
    "## Cartesians\n",
    "$1D: dx$\n"
   ]
  }
 ],
 "metadata": {
  "kernelspec": {
   "display_name": "Jepedia",
   "language": "python",
   "name": "jepedia"
  },
  "language_info": {
   "codemirror_mode": {
    "name": "ipython",
    "version": 3
   },
   "file_extension": ".py",
   "mimetype": "text/x-python",
   "name": "python",
   "nbconvert_exporter": "python",
   "pygments_lexer": "ipython3",
   "version": "3.8.2"
  }
 },
 "nbformat": 4,
 "nbformat_minor": 4
}
